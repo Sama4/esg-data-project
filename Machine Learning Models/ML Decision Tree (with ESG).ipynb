{
 "cells": [
  {
   "cell_type": "markdown",
   "metadata": {},
   "source": [
    "# Data Initialization"
   ]
  },
  {
   "cell_type": "code",
   "execution_count": 78,
   "metadata": {},
   "outputs": [
    {
     "data": {
      "text/plain": [
       "<Figure size 1296x432 with 0 Axes>"
      ]
     },
     "metadata": {},
     "output_type": "display_data"
    }
   ],
   "source": [
    "# import libraries for data management\n",
    "import numpy as np \n",
    "import pandas as pd\n",
    "from sklearn import preprocessing\n",
    "\n",
    "# import libraries for data visualization\n",
    "import seaborn as sns\n",
    "import matplotlib.pyplot as plt\n",
    "%matplotlib inline\n",
    "fig = plt.figure(figsize=(18,6))\n",
    "\n",
    "from sklearn import metrics\n",
    "from sklearn.metrics import mean_absolute_error\n",
    "from sklearn.metrics import accuracy_score\n",
    "from sklearn.metrics import classification_report\n",
    "from sklearn.metrics import confusion_matrix\n",
    "from sklearn.metrics import precision_recall_curve"
   ]
  },
  {
   "cell_type": "code",
   "execution_count": 79,
   "metadata": {},
   "outputs": [],
   "source": [
    "#load dataset\n",
    "\n",
    "data_raw = pd.read_csv('Dataset - Loans2_Cleansed.csv')"
   ]
  },
  {
   "cell_type": "code",
   "execution_count": 80,
   "metadata": {},
   "outputs": [
    {
     "data": {
      "text/html": [
       "<div>\n",
       "<style scoped>\n",
       "    .dataframe tbody tr th:only-of-type {\n",
       "        vertical-align: middle;\n",
       "    }\n",
       "\n",
       "    .dataframe tbody tr th {\n",
       "        vertical-align: top;\n",
       "    }\n",
       "\n",
       "    .dataframe thead th {\n",
       "        text-align: right;\n",
       "    }\n",
       "</style>\n",
       "<table border=\"1\" class=\"dataframe\">\n",
       "  <thead>\n",
       "    <tr style=\"text-align: right;\">\n",
       "      <th></th>\n",
       "      <th>Period</th>\n",
       "      <th>quick_ratio</th>\n",
       "      <th>profit_growth</th>\n",
       "      <th>management_turnover</th>\n",
       "      <th>loan_size</th>\n",
       "      <th>leverage_ratio</th>\n",
       "      <th>defaulted</th>\n",
       "      <th>sector</th>\n",
       "      <th>Environment</th>\n",
       "      <th>Social</th>\n",
       "      <th>Governance</th>\n",
       "    </tr>\n",
       "  </thead>\n",
       "  <tbody>\n",
       "    <tr>\n",
       "      <th>0</th>\n",
       "      <td>1</td>\n",
       "      <td>0.29</td>\n",
       "      <td>-0.18</td>\n",
       "      <td>0.11</td>\n",
       "      <td>53.06</td>\n",
       "      <td>0.70</td>\n",
       "      <td>1</td>\n",
       "      <td>1</td>\n",
       "      <td>0.028130</td>\n",
       "      <td>0.209371</td>\n",
       "      <td>-0.719051</td>\n",
       "    </tr>\n",
       "    <tr>\n",
       "      <th>1</th>\n",
       "      <td>1</td>\n",
       "      <td>2.07</td>\n",
       "      <td>0.44</td>\n",
       "      <td>0.38</td>\n",
       "      <td>403.37</td>\n",
       "      <td>0.21</td>\n",
       "      <td>0</td>\n",
       "      <td>1</td>\n",
       "      <td>0.156548</td>\n",
       "      <td>0.042234</td>\n",
       "      <td>-0.854891</td>\n",
       "    </tr>\n",
       "    <tr>\n",
       "      <th>2</th>\n",
       "      <td>1</td>\n",
       "      <td>0.18</td>\n",
       "      <td>-0.09</td>\n",
       "      <td>0.25</td>\n",
       "      <td>106.22</td>\n",
       "      <td>0.83</td>\n",
       "      <td>1</td>\n",
       "      <td>1</td>\n",
       "      <td>-0.426099</td>\n",
       "      <td>0.384244</td>\n",
       "      <td>0.108842</td>\n",
       "    </tr>\n",
       "    <tr>\n",
       "      <th>3</th>\n",
       "      <td>1</td>\n",
       "      <td>0.34</td>\n",
       "      <td>0.19</td>\n",
       "      <td>0.10</td>\n",
       "      <td>452.29</td>\n",
       "      <td>0.36</td>\n",
       "      <td>1</td>\n",
       "      <td>1</td>\n",
       "      <td>-0.221770</td>\n",
       "      <td>0.299328</td>\n",
       "      <td>0.087536</td>\n",
       "    </tr>\n",
       "    <tr>\n",
       "      <th>4</th>\n",
       "      <td>1</td>\n",
       "      <td>0.65</td>\n",
       "      <td>0.20</td>\n",
       "      <td>0.18</td>\n",
       "      <td>441.16</td>\n",
       "      <td>0.49</td>\n",
       "      <td>0</td>\n",
       "      <td>1</td>\n",
       "      <td>-0.244648</td>\n",
       "      <td>-1.993649</td>\n",
       "      <td>-0.548874</td>\n",
       "    </tr>\n",
       "  </tbody>\n",
       "</table>\n",
       "</div>"
      ],
      "text/plain": [
       "   Period  quick_ratio  profit_growth  management_turnover  loan_size  \\\n",
       "0       1         0.29          -0.18                 0.11      53.06   \n",
       "1       1         2.07           0.44                 0.38     403.37   \n",
       "2       1         0.18          -0.09                 0.25     106.22   \n",
       "3       1         0.34           0.19                 0.10     452.29   \n",
       "4       1         0.65           0.20                 0.18     441.16   \n",
       "\n",
       "   leverage_ratio  defaulted  sector  Environment    Social  Governance  \n",
       "0            0.70          1       1     0.028130  0.209371   -0.719051  \n",
       "1            0.21          0       1     0.156548  0.042234   -0.854891  \n",
       "2            0.83          1       1    -0.426099  0.384244    0.108842  \n",
       "3            0.36          1       1    -0.221770  0.299328    0.087536  \n",
       "4            0.49          0       1    -0.244648 -1.993649   -0.548874  "
      ]
     },
     "execution_count": 80,
     "metadata": {},
     "output_type": "execute_result"
    }
   ],
   "source": [
    "data_raw.head()"
   ]
  },
  {
   "cell_type": "code",
   "execution_count": 81,
   "metadata": {},
   "outputs": [],
   "source": [
    "# remove ESG columns\n",
    "\n",
    "# data = data_raw.drop(columns=['sector','Environment','Social','Governance'])\n",
    "\n",
    "data = data_raw"
   ]
  },
  {
   "cell_type": "code",
   "execution_count": 82,
   "metadata": {},
   "outputs": [
    {
     "data": {
      "text/html": [
       "<div>\n",
       "<style scoped>\n",
       "    .dataframe tbody tr th:only-of-type {\n",
       "        vertical-align: middle;\n",
       "    }\n",
       "\n",
       "    .dataframe tbody tr th {\n",
       "        vertical-align: top;\n",
       "    }\n",
       "\n",
       "    .dataframe thead th {\n",
       "        text-align: right;\n",
       "    }\n",
       "</style>\n",
       "<table border=\"1\" class=\"dataframe\">\n",
       "  <thead>\n",
       "    <tr style=\"text-align: right;\">\n",
       "      <th></th>\n",
       "      <th>Period</th>\n",
       "      <th>quick_ratio</th>\n",
       "      <th>profit_growth</th>\n",
       "      <th>management_turnover</th>\n",
       "      <th>loan_size</th>\n",
       "      <th>leverage_ratio</th>\n",
       "      <th>defaulted</th>\n",
       "      <th>sector</th>\n",
       "      <th>Environment</th>\n",
       "      <th>Social</th>\n",
       "      <th>Governance</th>\n",
       "    </tr>\n",
       "  </thead>\n",
       "  <tbody>\n",
       "    <tr>\n",
       "      <th>0</th>\n",
       "      <td>1</td>\n",
       "      <td>0.29</td>\n",
       "      <td>-0.18</td>\n",
       "      <td>0.11</td>\n",
       "      <td>53.06</td>\n",
       "      <td>0.70</td>\n",
       "      <td>1</td>\n",
       "      <td>1</td>\n",
       "      <td>0.028130</td>\n",
       "      <td>0.209371</td>\n",
       "      <td>-0.719051</td>\n",
       "    </tr>\n",
       "    <tr>\n",
       "      <th>1</th>\n",
       "      <td>1</td>\n",
       "      <td>2.07</td>\n",
       "      <td>0.44</td>\n",
       "      <td>0.38</td>\n",
       "      <td>403.37</td>\n",
       "      <td>0.21</td>\n",
       "      <td>0</td>\n",
       "      <td>1</td>\n",
       "      <td>0.156548</td>\n",
       "      <td>0.042234</td>\n",
       "      <td>-0.854891</td>\n",
       "    </tr>\n",
       "    <tr>\n",
       "      <th>2</th>\n",
       "      <td>1</td>\n",
       "      <td>0.18</td>\n",
       "      <td>-0.09</td>\n",
       "      <td>0.25</td>\n",
       "      <td>106.22</td>\n",
       "      <td>0.83</td>\n",
       "      <td>1</td>\n",
       "      <td>1</td>\n",
       "      <td>-0.426099</td>\n",
       "      <td>0.384244</td>\n",
       "      <td>0.108842</td>\n",
       "    </tr>\n",
       "    <tr>\n",
       "      <th>3</th>\n",
       "      <td>1</td>\n",
       "      <td>0.34</td>\n",
       "      <td>0.19</td>\n",
       "      <td>0.10</td>\n",
       "      <td>452.29</td>\n",
       "      <td>0.36</td>\n",
       "      <td>1</td>\n",
       "      <td>1</td>\n",
       "      <td>-0.221770</td>\n",
       "      <td>0.299328</td>\n",
       "      <td>0.087536</td>\n",
       "    </tr>\n",
       "    <tr>\n",
       "      <th>4</th>\n",
       "      <td>1</td>\n",
       "      <td>0.65</td>\n",
       "      <td>0.20</td>\n",
       "      <td>0.18</td>\n",
       "      <td>441.16</td>\n",
       "      <td>0.49</td>\n",
       "      <td>0</td>\n",
       "      <td>1</td>\n",
       "      <td>-0.244648</td>\n",
       "      <td>-1.993649</td>\n",
       "      <td>-0.548874</td>\n",
       "    </tr>\n",
       "  </tbody>\n",
       "</table>\n",
       "</div>"
      ],
      "text/plain": [
       "   Period  quick_ratio  profit_growth  management_turnover  loan_size  \\\n",
       "0       1         0.29          -0.18                 0.11      53.06   \n",
       "1       1         2.07           0.44                 0.38     403.37   \n",
       "2       1         0.18          -0.09                 0.25     106.22   \n",
       "3       1         0.34           0.19                 0.10     452.29   \n",
       "4       1         0.65           0.20                 0.18     441.16   \n",
       "\n",
       "   leverage_ratio  defaulted  sector  Environment    Social  Governance  \n",
       "0            0.70          1       1     0.028130  0.209371   -0.719051  \n",
       "1            0.21          0       1     0.156548  0.042234   -0.854891  \n",
       "2            0.83          1       1    -0.426099  0.384244    0.108842  \n",
       "3            0.36          1       1    -0.221770  0.299328    0.087536  \n",
       "4            0.49          0       1    -0.244648 -1.993649   -0.548874  "
      ]
     },
     "execution_count": 82,
     "metadata": {},
     "output_type": "execute_result"
    }
   ],
   "source": [
    "data.head()"
   ]
  },
  {
   "cell_type": "markdown",
   "metadata": {},
   "source": [
    "# Machine Learning (Decision Tree)"
   ]
  },
  {
   "cell_type": "code",
   "execution_count": 83,
   "metadata": {},
   "outputs": [],
   "source": [
    "# import libraries for machine learning (decision tree)\n",
    "from sklearn import tree\n",
    "from sklearn.model_selection import train_test_split\n",
    "from sklearn.model_selection import cross_val_score, cross_val_predict\n",
    "from sklearn.model_selection import GridSearchCV\n",
    "from sklearn.tree import export_text"
   ]
  },
  {
   "cell_type": "code",
   "execution_count": 84,
   "metadata": {},
   "outputs": [],
   "source": [
    "# X and Y split\n",
    "\n",
    "X = data.drop(['defaulted'],axis='columns',inplace=False)\n",
    "Y = data['defaulted']"
   ]
  },
  {
   "cell_type": "code",
   "execution_count": 85,
   "metadata": {},
   "outputs": [],
   "source": [
    "# Test and Train Set Split (train = 70% / test = 30%)\n",
    "\n",
    "train_x, test_x, train_y, test_y = train_test_split(X, Y, test_size=0.3, random_state=42)"
   ]
  },
  {
   "cell_type": "markdown",
   "metadata": {},
   "source": [
    "### baseline"
   ]
  },
  {
   "cell_type": "code",
   "execution_count": 86,
   "metadata": {},
   "outputs": [],
   "source": [
    "# Default Model (Baseline)\n",
    "\n",
    "model = tree.DecisionTreeClassifier()\n",
    "model = model.fit(train_x,train_y)\n",
    "pred_y = model.predict(test_x)\n",
    "pred_prob_y = model.predict_proba(test_x)"
   ]
  },
  {
   "cell_type": "code",
   "execution_count": 87,
   "metadata": {},
   "outputs": [
    {
     "name": "stdout",
     "output_type": "stream",
     "text": [
      "MAE: 0.3616666666666667\n",
      "Accuracy: 0.6383333333333333\n",
      "Classification Report: \n",
      "               precision    recall  f1-score   support\n",
      "\n",
      "           0       0.64      0.62      0.63       296\n",
      "           1       0.64      0.66      0.65       304\n",
      "\n",
      "    accuracy                           0.64       600\n",
      "   macro avg       0.64      0.64      0.64       600\n",
      "weighted avg       0.64      0.64      0.64       600\n",
      "\n",
      "Confusion Matrix: \n",
      " [[183 113]\n",
      " [104 200]]\n"
     ]
    }
   ],
   "source": [
    "# Evaluation\n",
    "\n",
    "print(\"MAE:\",mean_absolute_error(test_y, pred_y))\n",
    "print(\"Accuracy:\",accuracy_score(test_y, pred_y, normalize=True, sample_weight=None))\n",
    "print(\"Classification Report:\",'\\n',classification_report(test_y, pred_y))\n",
    "print(\"Confusion Matrix:\", '\\n', confusion_matrix(test_y, pred_y))"
   ]
  },
  {
   "cell_type": "markdown",
   "metadata": {},
   "source": [
    "### overfitting check"
   ]
  },
  {
   "cell_type": "code",
   "execution_count": 88,
   "metadata": {},
   "outputs": [
    {
     "name": "stdout",
     "output_type": "stream",
     "text": [
      "Training Set Min Error Rate: 19.286% at nodes: 30\n",
      "Testing Set Error Rate: 26.000% at nodes: 5\n"
     ]
    }
   ],
   "source": [
    "# check for overfitting (max_leaf_nodes)\n",
    "\n",
    "nodes = [2,3,4,5,6,7,8,9,10,15,20,30]\n",
    "error_train = []\n",
    "error_test = []\n",
    "\n",
    "for i in nodes:\n",
    "    # 70% train data\n",
    "    model = tree.DecisionTreeClassifier(max_leaf_nodes = i)\n",
    "    model = model.fit(train_x,train_y)\n",
    "    pred_y_train = model.predict(train_x)   \n",
    "    error_train.append(1-accuracy_score(train_y, pred_y_train, normalize=True, sample_weight=None))\n",
    "\n",
    "    # 30% test data\n",
    "    pred_y = model.predict(test_x)\n",
    "    error_test.append(1-accuracy_score(test_y, pred_y, normalize=True, sample_weight=None))\n",
    "\n",
    "print(\"Training Set Min Error Rate:\",\"{:.3%}\".format(min(error_train)),\"at nodes:\",nodes[error_train.index(min(error_train))])\n",
    "print(\"Testing Set Error Rate:\",\"{:.3%}\".format(min(error_test)),\"at nodes:\",nodes[error_test.index(min(error_test))])"
   ]
  },
  {
   "cell_type": "code",
   "execution_count": 90,
   "metadata": {},
   "outputs": [
    {
     "data": {
      "text/plain": [
       "<matplotlib.legend.Legend at 0x267531977f0>"
      ]
     },
     "execution_count": 90,
     "metadata": {},
     "output_type": "execute_result"
    },
    {
     "data": {
      "image/png": "[encoded data removed]",
      "text/plain": [
       "<Figure size 432x288 with 1 Axes>"
      ]
     },
     "metadata": {},
     "output_type": "display_data"
    }
   ],
   "source": [
    "# range for cvgrid for leaf nodes [5-6]\n",
    "\n",
    "plt.title('Max Leaf Nodes')\n",
    "plt.plot(nodes,error_train, label='Training Set')\n",
    "plt.plot(nodes,error_test, label='Testing Set')\n",
    "plt.xlabel('Number of Nodes')\n",
    "plt.ylabel('Error (%)')\n",
    "plt.legend()"
   ]
  },
  {
   "cell_type": "code",
   "execution_count": 91,
   "metadata": {},
   "outputs": [
    {
     "name": "stdout",
     "output_type": "stream",
     "text": [
      "Training Set Min Error Rate: 0.357% at depths: 20\n",
      "Testing Set Error Rate: 26.500% at depths: 3\n"
     ]
    }
   ],
   "source": [
    "# check for overfitting (depth)\n",
    "\n",
    "depths = [*range(1,21)]\n",
    "error_train = []\n",
    "error_test = []\n",
    "\n",
    "for i in depths:\n",
    "    # 70% train data\n",
    "    model = tree.DecisionTreeClassifier(max_depth = i)\n",
    "    model = model.fit(train_x,train_y)\n",
    "    pred_y_train = model.predict(train_x)   \n",
    "    error_train.append(1-accuracy_score(train_y, pred_y_train, normalize=True, sample_weight=None))\n",
    "\n",
    "    # 30% test data\n",
    "    pred_y = model.predict(test_x)\n",
    "    error_test.append(1-accuracy_score(test_y, pred_y, normalize=True, sample_weight=None))\n",
    "\n",
    "print(\"Training Set Min Error Rate:\",\"{:.3%}\".format(min(error_train)),\"at depths:\",depths[error_train.index(min(error_train))])\n",
    "print(\"Testing Set Error Rate:\",\"{:.3%}\".format(min(error_test)),\"at depths:\",depths[error_test.index(min(error_test))])"
   ]
  },
  {
   "cell_type": "code",
   "execution_count": 33,
   "metadata": {},
   "outputs": [
    {
     "data": {
      "text/plain": [
       "<matplotlib.legend.Legend at 0x26751cbbcc0>"
      ]
     },
     "execution_count": 33,
     "metadata": {},
     "output_type": "execute_result"
    },
    {
     "data": {
      "image/png": "[encoded data removed]",
      "text/plain": [
       "<Figure size 432x288 with 1 Axes>"
      ]
     },
     "metadata": {},
     "output_type": "display_data"
    }
   ],
   "source": [
    "# range for cvgrid for max depths [2-3]\n",
    "\n",
    "plt.title('Max Depths')\n",
    "plt.plot(depths,error_train, label='Training Set')\n",
    "plt.plot(depths,error_test, label='Testing Set')\n",
    "plt.xlabel('Number of Depths')\n",
    "plt.ylabel('Error (%)')\n",
    "plt.legend()"
   ]
  },
  {
   "cell_type": "code",
   "execution_count": 92,
   "metadata": {},
   "outputs": [
    {
     "name": "stdout",
     "output_type": "stream",
     "text": [
      "Training Set Min Error Rate: 0.000% at samples: 2\n",
      "Testing Set Error Rate: 34.833% at samples: 8\n"
     ]
    }
   ],
   "source": [
    "# check for overfitting (min sample split)\n",
    "\n",
    "split = [*range(2,11)]\n",
    "error_train = []\n",
    "error_test = []\n",
    "\n",
    "for i in split:\n",
    "    # 70% train data\n",
    "    model = tree.DecisionTreeClassifier(min_samples_split = i)\n",
    "    model = model.fit(train_x,train_y)\n",
    "    pred_y_train = model.predict(train_x)   \n",
    "    error_train.append(1-accuracy_score(train_y, pred_y_train, normalize=True, sample_weight=None))\n",
    "\n",
    "    # 30% test data\n",
    "    pred_y = model.predict(test_x)\n",
    "    error_test.append(1-accuracy_score(test_y, pred_y, normalize=True, sample_weight=None))\n",
    "\n",
    "print(\"Training Set Min Error Rate:\",\"{:.3%}\".format(min(error_train)),\"at samples:\",split[error_train.index(min(error_train))])\n",
    "print(\"Testing Set Error Rate:\",\"{:.3%}\".format(min(error_test)),\"at samples:\",split[error_test.index(min(error_test))])"
   ]
  },
  {
   "cell_type": "code",
   "execution_count": 93,
   "metadata": {},
   "outputs": [
    {
     "data": {
      "text/plain": [
       "<matplotlib.legend.Legend at 0x26753206668>"
      ]
     },
     "execution_count": 93,
     "metadata": {},
     "output_type": "execute_result"
    },
    {
     "data": {
      "image/png": "[encoded data removed]",
      "text/plain": [
       "<Figure size 432x288 with 1 Axes>"
      ]
     },
     "metadata": {},
     "output_type": "display_data"
    }
   ],
   "source": [
    "# range for cvgrid for min sample split [2-8]\n",
    "\n",
    "plt.title('Min Sample Split')\n",
    "plt.plot(split,error_train, label='Training Set')\n",
    "plt.plot(split,error_test, label='Testing Set')\n",
    "plt.xlabel('Number of Samples')\n",
    "plt.ylabel('Error (%)')\n",
    "plt.legend()"
   ]
  },
  {
   "cell_type": "markdown",
   "metadata": {},
   "source": [
    "### grid cv"
   ]
  },
  {
   "cell_type": "code",
   "execution_count": 94,
   "metadata": {},
   "outputs": [
    {
     "data": {
      "text/plain": [
       "[{'criterion': ['gini', 'entropy'],\n",
       "  'max_depth': array([2]),\n",
       "  'max_leaf_nodes': [5, 6],\n",
       "  'min_samples_split': [2, 3, 4, 5, 6, 7, 8]}]"
      ]
     },
     "execution_count": 94,
     "metadata": {},
     "output_type": "execute_result"
    }
   ],
   "source": [
    "# define criterion\n",
    "\n",
    "crit = ['gini','entropy']\n",
    "\n",
    "# define max depths\n",
    "\n",
    "depths = np.arange(2,3)\n",
    "\n",
    "# define max leaf nodes\n",
    "\n",
    "num_leafs = [5,6]\n",
    "\n",
    "# define the min sample split\n",
    "\n",
    "split = [2,3,4,5,6,7,8]\n",
    "\n",
    "# initiate grid\n",
    "\n",
    "try_grid = [{'criterion':crit,\n",
    "            'max_depth':depths,\n",
    "            'max_leaf_nodes':num_leafs,\n",
    "            'min_samples_split':split,\n",
    "            }]\n",
    "\n",
    "try_grid"
   ]
  },
  {
   "cell_type": "code",
   "execution_count": 95,
   "metadata": {},
   "outputs": [],
   "source": [
    "# DT_model = GridSearchCV(tree.DecisionTreeClassifier(criterion = 'entropy'), param_grid=try_grid, cv=10)\n",
    "\n",
    "DT_model = GridSearchCV(tree.DecisionTreeClassifier(), param_grid=try_grid, cv=10)"
   ]
  },
  {
   "cell_type": "code",
   "execution_count": 96,
   "metadata": {},
   "outputs": [
    {
     "data": {
      "text/plain": [
       "GridSearchCV(cv=10, estimator=DecisionTreeClassifier(),\n",
       "             param_grid=[{'criterion': ['gini', 'entropy'],\n",
       "                          'max_depth': array([2]), 'max_leaf_nodes': [5, 6],\n",
       "                          'min_samples_split': [2, 3, 4, 5, 6, 7, 8]}])"
      ]
     },
     "execution_count": 96,
     "metadata": {},
     "output_type": "execute_result"
    }
   ],
   "source": [
    "# fit the model with a combination of the parameters, this will take a while to run\n",
    "\n",
    "DT_model.fit(train_x,train_y)"
   ]
  },
  {
   "cell_type": "code",
   "execution_count": 97,
   "metadata": {},
   "outputs": [
    {
     "data": {
      "text/plain": [
       "{'criterion': 'entropy',\n",
       " 'max_depth': 2,\n",
       " 'max_leaf_nodes': 5,\n",
       " 'min_samples_split': 2}"
      ]
     },
     "execution_count": 97,
     "metadata": {},
     "output_type": "execute_result"
    }
   ],
   "source": [
    "# find the best parameters\n",
    "\n",
    "DT_model.best_params_"
   ]
  },
  {
   "cell_type": "code",
   "execution_count": 98,
   "metadata": {},
   "outputs": [
    {
     "data": {
      "text/plain": [
       "0.7371428571428572"
      ]
     },
     "execution_count": 98,
     "metadata": {},
     "output_type": "execute_result"
    }
   ],
   "source": [
    "DT_model.best_score_"
   ]
  },
  {
   "cell_type": "code",
   "execution_count": 115,
   "metadata": {},
   "outputs": [
    {
     "data": {
      "text/plain": [
       "DecisionTreeClassifier(criterion='entropy', max_depth=2, max_leaf_nodes=5)"
      ]
     },
     "execution_count": 115,
     "metadata": {},
     "output_type": "execute_result"
    }
   ],
   "source": [
    "# pick the best model\n",
    "\n",
    "DT_model_best = tree.DecisionTreeClassifier(criterion = 'entropy',\n",
    "                                            max_depth = 2, \n",
    "                                            max_leaf_nodes = 5,\n",
    "                                            min_samples_split = 2,\n",
    "                                            )\n",
    "\n",
    "DT_model_best.fit(train_x,train_y)"
   ]
  },
  {
   "cell_type": "code",
   "execution_count": 116,
   "metadata": {},
   "outputs": [],
   "source": [
    "pred_y_2 = DT_model_best.predict(test_x)\n",
    "pred_prob_y_2 = DT_model_best.predict_proba(test_x)"
   ]
  },
  {
   "cell_type": "markdown",
   "metadata": {},
   "source": [
    "## Evaluation"
   ]
  },
  {
   "cell_type": "code",
   "execution_count": 117,
   "metadata": {},
   "outputs": [
    {
     "name": "stdout",
     "output_type": "stream",
     "text": [
      "MAE: 0.26666666666666666\n",
      "Accuracy: 0.7333333333333333\n",
      "Classification Report: \n",
      "               precision    recall  f1-score   support\n",
      "\n",
      "           0       0.66      0.94      0.78       296\n",
      "           1       0.90      0.53      0.67       304\n",
      "\n",
      "    accuracy                           0.73       600\n",
      "   macro avg       0.78      0.74      0.72       600\n",
      "weighted avg       0.78      0.73      0.72       600\n",
      "\n",
      "Confusion Matrix: \n",
      " [[279  17]\n",
      " [143 161]]\n"
     ]
    }
   ],
   "source": [
    "# evaluate result\n",
    "\n",
    "print(\"MAE:\",mean_absolute_error(test_y, pred_y_2))\n",
    "print(\"Accuracy:\",accuracy_score(test_y, pred_y_2, normalize=True, sample_weight=None))\n",
    "print(\"Classification Report:\",'\\n',classification_report(test_y, pred_y_2))\n",
    "print(\"Confusion Matrix:\", '\\n', confusion_matrix(test_y, pred_y_2))"
   ]
  },
  {
   "cell_type": "code",
   "execution_count": 118,
   "metadata": {},
   "outputs": [
    {
     "name": "stdout",
     "output_type": "stream",
     "text": [
      "|--- feature_1 <= 0.37\n",
      "|   |--- feature_2 <= 0.13\n",
      "|   |   |--- class: 1\n",
      "|   |--- feature_2 >  0.13\n",
      "|   |   |--- class: 0\n",
      "|--- feature_1 >  0.37\n",
      "|   |--- feature_8 <= -1.83\n",
      "|   |   |--- class: 0\n",
      "|   |--- feature_8 >  -1.83\n",
      "|   |   |--- class: 0\n",
      "\n"
     ]
    }
   ],
   "source": [
    "text_representation = tree.export_text(DT_model_best)\n",
    "print(text_representation)"
   ]
  },
  {
   "cell_type": "code",
   "execution_count": 119,
   "metadata": {},
   "outputs": [
    {
     "name": "stdout",
     "output_type": "stream",
     "text": [
      "The most informative features are quick_ratio, profit_growth and Social\n"
     ]
    }
   ],
   "source": [
    "# Feature 7, 4, 12 are the most informative features according to the decision tree text representation.\n",
    "\n",
    "print('The most informative features are {}, {} and {}'.format(train_x.columns[1], train_x.columns[2],train_x.columns[8]))"
   ]
  },
  {
   "cell_type": "markdown",
   "metadata": {},
   "source": [
    "### Precision-Recall Curve"
   ]
  },
  {
   "cell_type": "code",
   "execution_count": 104,
   "metadata": {},
   "outputs": [],
   "source": [
    "# array the test_y\n",
    "\n",
    "test_y_array = np.array(test_y)"
   ]
  },
  {
   "cell_type": "code",
   "execution_count": 105,
   "metadata": {},
   "outputs": [],
   "source": [
    "# precision-recall curve\n",
    "\n",
    "precision1, recall1, threshold1 = precision_recall_curve(test_y_array, pred_prob_y[:,1])\n",
    "precision2, recall2, threshold2 = precision_recall_curve(test_y_array, pred_prob_y_2[:,1])"
   ]
  },
  {
   "cell_type": "code",
   "execution_count": 106,
   "metadata": {},
   "outputs": [
    {
     "data": {
      "text/plain": [
       "<matplotlib.legend.Legend at 0x26753286588>"
      ]
     },
     "execution_count": 106,
     "metadata": {},
     "output_type": "execute_result"
    },
    {
     "data": {
      "image/png": "[encoded data removed]",
      "text/plain": [
       "<Figure size 432x288 with 1 Axes>"
      ]
     },
     "metadata": {},
     "output_type": "display_data"
    }
   ],
   "source": [
    "plt.plot(precision1,recall1, label='baseline') #baseline\n",
    "plt.plot(precision2,recall2, label='revised model') #cvgrid new model\n",
    "plt.legend()"
   ]
  },
  {
   "cell_type": "markdown",
   "metadata": {},
   "source": [
    "### ROC / AUC"
   ]
  },
  {
   "cell_type": "code",
   "execution_count": 107,
   "metadata": {},
   "outputs": [],
   "source": [
    "# ROC\n",
    "\n",
    "fpr1, tpr1, threshold3 = metrics.roc_curve(test_y_array, pred_prob_y[:,1],pos_label=1)\n",
    "fpr2, tpr2, threshold4 = metrics.roc_curve(test_y_array, pred_prob_y_2[:,1],pos_label=1)"
   ]
  },
  {
   "cell_type": "code",
   "execution_count": 108,
   "metadata": {},
   "outputs": [
    {
     "data": {
      "text/plain": [
       "<matplotlib.legend.Legend at 0x267532e3cf8>"
      ]
     },
     "execution_count": 108,
     "metadata": {},
     "output_type": "execute_result"
    },
    {
     "data": {
      "image/png": "[encoded data removed]",
      "text/plain": [
       "<Figure size 432x288 with 1 Axes>"
      ]
     },
     "metadata": {},
     "output_type": "display_data"
    }
   ],
   "source": [
    "plt.plot(fpr1,tpr1, label='baseline') #baseline\n",
    "plt.plot(fpr2,tpr2, label='revised model') #cvgrid new model\n",
    "plt.legend()"
   ]
  },
  {
   "cell_type": "code",
   "execution_count": 109,
   "metadata": {},
   "outputs": [
    {
     "data": {
      "text/plain": [
       "0.6380689900426743"
      ]
     },
     "execution_count": 109,
     "metadata": {},
     "output_type": "execute_result"
    }
   ],
   "source": [
    "# AUC - baseline\n",
    "\n",
    "metrics.auc(fpr1, tpr1)"
   ]
  },
  {
   "cell_type": "code",
   "execution_count": 110,
   "metadata": {},
   "outputs": [
    {
     "data": {
      "text/plain": [
       "0.7398537517780938"
      ]
     },
     "execution_count": 110,
     "metadata": {},
     "output_type": "execute_result"
    }
   ],
   "source": [
    "# AUC - revised model\n",
    "\n",
    "metrics.auc(fpr2, tpr2)"
   ]
  }
 ],
 "metadata": {
  "kernelspec": {
   "display_name": "Python 3",
   "language": "python",
   "name": "python3"
  },
  "language_info": {
   "codemirror_mode": {
    "name": "ipython",
    "version": 3
   },
   "file_extension": ".py",
   "mimetype": "text/x-python",
   "name": "python",
   "nbconvert_exporter": "python",
   "pygments_lexer": "ipython3",
   "version": "3.6.5"
  }
 },
 "nbformat": 4,
 "nbformat_minor": 2
}
